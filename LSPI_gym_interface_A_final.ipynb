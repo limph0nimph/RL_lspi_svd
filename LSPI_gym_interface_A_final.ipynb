{
  "cells": [
    {
      "cell_type": "code",
      "execution_count": 1,
      "metadata": {
        "colab": {
          "base_uri": "https://localhost:8080/"
        },
        "id": "MAbHFW9Ppr6I",
        "outputId": "2d989773-7f3b-4197-cb0a-2afcbac2654c"
      },
      "outputs": [
        {
          "output_type": "stream",
          "name": "stdout",
          "text": [
            "Starting virtual X frame buffer: Xvfb.\n"
          ]
        }
      ],
      "source": [
        "import sys, os\n",
        "if 'google.colab' in sys.modules and not os.path.exists('.setup_complete'):\n",
        "    !wget -q https://raw.githubusercontent.com/yandexdataschool/Practical_RL/master/setup_colab.sh -O- | bash\n",
        "\n",
        "    !touch .setup_complete\n",
        "\n",
        "# This code creates a virtual display to draw game images on.\n",
        "# It will have no effect if your machine has a monitor.\n",
        "if type(os.environ.get(\"DISPLAY\")) is not str or len(os.environ.get(\"DISPLAY\")) == 0:\n",
        "    !bash ../xvfb start\n",
        "    os.environ['DISPLAY'] = ':1'"
      ]
    },
    {
      "cell_type": "code",
      "execution_count": 2,
      "metadata": {
        "id": "7hsYfl6Jpr6Z"
      },
      "outputs": [],
      "source": [
        "import numpy as np\n",
        "import matplotlib.pyplot as plt\n",
        "%matplotlib inline"
      ]
    },
    {
      "cell_type": "markdown",
      "metadata": {
        "id": "SoxoILsDpr6a"
      },
      "source": [
        "### OpenAI Gym\n",
        "\n",
        "We're gonna spend several next weeks learning algorithms that solve decision processes. We are then in need of some interesting decision problems to test our algorithms.\n",
        "\n",
        "That's where OpenAI Gym comes into play. It's a Python library that wraps many classical decision problems including robot control, videogames and board games.\n",
        "\n",
        "So here's how it works:"
      ]
    },
    {
      "cell_type": "code",
      "execution_count": null,
      "metadata": {
        "id": "ZbFjUu8FTyIf"
      },
      "outputs": [],
      "source": [
        "#!pip3 install pyglet"
      ]
    },
    {
      "cell_type": "code",
      "execution_count": 3,
      "metadata": {
        "colab": {
          "base_uri": "https://localhost:8080/",
          "height": 304
        },
        "id": "S9NRmm1Ypr6b",
        "outputId": "855b93da-befd-41c8-8dfc-180fda1029bc"
      },
      "outputs": [
        {
          "output_type": "stream",
          "name": "stdout",
          "text": [
            "Observation space: Box(-1.2000000476837158, 0.6000000238418579, (2,), float32)\n",
            "Action space: Discrete(3)\n"
          ]
        },
        {
          "output_type": "display_data",
          "data": {
            "image/png": "[encoded data removed]",
            "text/plain": [
              "<Figure size 432x288 with 1 Axes>"
            ]
          },
          "metadata": {
            "needs_background": "light"
          }
        }
      ],
      "source": [
        "import gym\n",
        "\n",
        "env = gym.make(\"MountainCar-v0\")\n",
        "env.reset()\n",
        "obs_array=env.render('rgb_array')\n",
        "plt.imshow(env.render('rgb_array'))\n",
        "print(\"Observation space:\", env.observation_space)\n",
        "print(\"Action space:\", env.action_space)"
      ]
    },
    {
      "cell_type": "code",
      "execution_count": 4,
      "metadata": {
        "colab": {
          "base_uri": "https://localhost:8080/",
          "height": 304
        },
        "id": "KwWR51v7ROfF",
        "outputId": "c6e332cc-25f2-490b-ad7f-7ed5fbbe89b9"
      },
      "outputs": [
        {
          "output_type": "stream",
          "name": "stdout",
          "text": [
            "(400, 600)\n"
          ]
        },
        {
          "output_type": "execute_result",
          "data": {
            "text/plain": [
              "<matplotlib.image.AxesImage at 0x7f302e7a6c90>"
            ]
          },
          "metadata": {},
          "execution_count": 4
        },
        {
          "output_type": "display_data",
          "data": {
            "image/png": "[encoded data removed]",
            "text/plain": [
              "<Figure size 432x288 with 1 Axes>"
            ]
          },
          "metadata": {
            "needs_background": "light"
          }
        }
      ],
      "source": [
        "obs_array.shape\n",
        "# convert to grey scale\n",
        "def rgb2gray(rgb):\n",
        "\n",
        "    r, g, b = rgb[:,:,0], rgb[:,:,1], rgb[:,:,2]\n",
        "    gray = 0.2989 * r + 0.5870 * g + 0.1140 * b\n",
        "\n",
        "    return gray\n",
        "print(rgb2gray(obs_array).shape)\n",
        "plt.imshow(rgb2gray(obs_array),cmap='Dark2')\n",
        "\n",
        "# from PIL import Image\n",
        "# img = Image.open('input_file.jpg').convert('L')\n",
        "# img.save('output_file.jpg')\n",
        "# import cv2\n",
        "# import numpy as np\n",
        "\n",
        "# img = cv2.imread('your_image.jpg')\n",
        "# res = cv2.resize(img, dsize=(54, 140), interpolation=cv2.INTER_CUBIC)"
      ]
    },
    {
      "cell_type": "code",
      "execution_count": 5,
      "metadata": {
        "colab": {
          "base_uri": "https://localhost:8080/",
          "height": 286
        },
        "id": "N33QjcsDURsf",
        "outputId": "2a46d489-5286-46ca-9488-811327d605dc"
      },
      "outputs": [
        {
          "output_type": "execute_result",
          "data": {
            "text/plain": [
              "<matplotlib.image.AxesImage at 0x7f302e1f7b50>"
            ]
          },
          "metadata": {},
          "execution_count": 5
        },
        {
          "output_type": "display_data",
          "data": {
            "image/png": "[encoded data removed]",
            "text/plain": [
              "<Figure size 432x288 with 1 Axes>"
            ]
          },
          "metadata": {
            "needs_background": "light"
          }
        }
      ],
      "source": [
        "import cv2\n",
        "img_grey=rgb2gray(obs_array)\n",
        "res = cv2.resize(img_grey, dsize=(300, 200), interpolation=cv2.INTER_CUBIC)\n",
        "plt.imshow(res,cmap='binary')\n"
      ]
    },
    {
      "cell_type": "markdown",
      "source": [
        "Agent making actions\n"
      ],
      "metadata": {
        "id": "ogqFSwf8Vuxn"
      }
    },
    {
      "cell_type": "code",
      "source": [
        "import numpy as np\n",
        "class Agent:\n",
        "    def __init__(self, env, preprocess_obs=None):\n",
        "        if preprocess_obs is None:\n",
        "            preprocess_obs = lambda x: x\n",
        "\n",
        "        self.env = env\n",
        "        self.action_size = self.env.action_space.n\n",
        "    \n",
        "    def set_Fhat(self, F_hat):\n",
        "        self.F_hat=F_hat\n",
        "\n",
        "    def set_features_size(self, k):\n",
        "        self.features_size = k\n",
        "        self.init_weights()\n",
        "\n",
        "    def init_weights(self, scale=1.):\n",
        "        size = self.features_size * self.action_size\n",
        "        self.weights = np.random.normal(size=size, scale=scale).reshape(self.features_size, self.action_size)\n",
        "\n",
        "    def set_weights(self, weights):\n",
        "        #k by n_actions\n",
        "        self.weights = weights\n",
        "\n",
        "    def get_features_size(self):\n",
        "        obs = self.env.observation_space.sample()\n",
        "        features = self.get_features(obs)\n",
        "        return len(features)\n",
        "\n",
        "\n",
        "    def get_features(self, obs):\n",
        "        # may flatten observations\n",
        "        #shape 1 by k\n",
        "        return obs@self.F_hat\n",
        "\n",
        "    def predict(self, obs):\n",
        "        values = self.get_features(obs)@self.weights\n",
        "        # values = np.dot(\n",
        "        #     self.weights.reshape(self.action_size, self.features_size),\n",
        "        #     obs)\n",
        "        action = np.argmax(values)\n",
        "        return action"
      ],
      "metadata": {
        "id": "Ns6x3rMeVzJ8"
      },
      "execution_count": 14,
      "outputs": []
    },
    {
      "cell_type": "code",
      "source": [
        "aaaaaa=dict()\n",
        "aaaaaa[0]=[1,2,3,3]\n",
        "aaaaaa[1]=[1,2,3,3]\n",
        "aaaaaa.items()"
      ],
      "metadata": {
        "colab": {
          "base_uri": "https://localhost:8080/"
        },
        "id": "viBptwPMeiU-",
        "outputId": "c182644a-d832-450e-c2c6-16eb0fa6d164"
      },
      "execution_count": 16,
      "outputs": [
        {
          "output_type": "execute_result",
          "data": {
            "text/plain": [
              "dict_items([(0, [1, 2, 3, 3]), (1, [1, 2, 3, 3])])"
            ]
          },
          "metadata": {},
          "execution_count": 16
        }
      ]
    },
    {
      "cell_type": "markdown",
      "metadata": {
        "id": "nep7MokOntEX"
      },
      "source": [
        "Simulate states, actions"
      ]
    },
    {
      "cell_type": "code",
      "execution_count": 7,
      "metadata": {
        "id": "kPm2JGwnnW1q"
      },
      "outputs": [],
      "source": [
        "from IPython import display\n",
        "\n",
        "# Create env manually to set time limit. Please don't change this.\n",
        "TIME_LIMIT = 250\n",
        "env = gym.wrappers.TimeLimit(\n",
        "    gym.envs.classic_control.MountainCarEnv(),\n",
        "    max_episode_steps=TIME_LIMIT + 1,\n",
        ")\n",
        "actions = {'left': 0, 'stop': 1, 'right': 2}\n",
        "def policy(obs, t):\n",
        "    # Write the code for your policy here. You can use the observation\n",
        "    # (a tuple of position and velocity), the current time step, or both,\n",
        "    # if you want.\n",
        "    position, velocity = obs\n",
        "    if velocity<0:\n",
        "        return actions['left']\n",
        "    else:\n",
        "        return actions['right']  \n"
      ]
    },
    {
      "cell_type": "code",
      "execution_count": 7,
      "metadata": {
        "colab": {
          "base_uri": "https://localhost:8080/",
          "height": 268
        },
        "id": "prRCYn55m1OT",
        "outputId": "8b71ecb3-4b52-4241-e934-956f651e0c11"
      },
      "outputs": [
        {
          "output_type": "display_data",
          "data": {
            "image/png": "[encoded data removed]",
            "text/plain": [
              "<Figure size 432x288 with 1 Axes>"
            ]
          },
          "metadata": {
            "needs_background": "light"
          }
        }
      ],
      "source": [
        "state_img2_sequence=[]\n",
        "action_sequence=[]\n",
        "reward_seqeunce=[]\n",
        "TIME_LIMIT=1000\n",
        "obs = env.reset()\n",
        "obs_array=env.render('rgb_array')\n",
        "img_grey=rgb2gray(obs_array)\n",
        "res = cv2.resize(img_grey, dsize=(150, 100), interpolation=cv2.INTER_CUBIC)\n",
        "plt.imshow(res)\n",
        "prev_state_img = res\n",
        "#plt.savefig('/content/drive/MyDrive/RL_proj_car_images/car_img_iter'+str(0)+'.png')\n",
        "\n",
        "\n",
        "##\n",
        "\n",
        "action = policy(obs, 0)  # Call your policy\n",
        "obs, reward, done, _ = env.step(action)\n",
        "obs_array=env.render('rgb_array')\n",
        "img_grey=rgb2gray(obs_array)\n",
        "res = cv2.resize(img_grey, dsize=(150, 100), interpolation=cv2.INTER_CUBIC)\n",
        "    #make a tensor of 2 pictures to incorporate velocity tensor\n",
        "state_img2=np.zeros([prev_state_img.shape[0],prev_state_img.shape[1],2])\n",
        "state_img2[:,:,0] = prev_state_img\n",
        "state_img2[:,:,1] = res\n",
        "\n",
        "    # saving more wisely  is desired\n",
        "    #flatten\n",
        "state_img2_sequence.append(state_img2.flatten())\n",
        "for t in range(1, TIME_LIMIT):\n",
        "    plt.gca().clear()\n",
        "    \n",
        "    #agent.predict(obs)\n",
        "    action = policy(obs, t)  # Call your policy\n",
        "    obs, reward, done, _ = env.step(action)  # Pass the action chosen by the policy to the environment\n",
        "    \n",
        "    action_sequence.append(action)\n",
        "    reward_seqeunce.append(reward)\n",
        "    # We don't do anything with reward here because MountainCar is a very simple environment,\n",
        "    # and reward is a constant -1. Therefore, your goal is to end the episode as quickly as possible.\n",
        "\n",
        "    # Draw game image on display.\n",
        "    obs_array=env.render('rgb_array')\n",
        "    img_grey=rgb2gray(obs_array)\n",
        "    res = cv2.resize(img_grey, dsize=(150, 100), interpolation=cv2.INTER_CUBIC)\n",
        "\n",
        "    #make a tensor of 2 pictures to incorporate velocity tensor\n",
        "    state_img2=np.zeros([prev_state_img.shape[0],prev_state_img.shape[1],2])\n",
        "    #flatten at this stage\n",
        "    state_img2[:,:,0] = prev_state_img\n",
        "    state_img2[:,:,1] = res\n",
        "    # saving more wisely  is desired\n",
        "    state_img2_sequence.append(state_img2.flatten())\n",
        "\n",
        "    #visualisation\n",
        "    plt.imshow(res)\n",
        "    #plt.savefig('/content/drive/MyDrive/RL_proj_car_images/car_img_iter'+str(t)+'.png')\n",
        "    display.display(plt.gcf())\n",
        "    display.clear_output(wait=True)\n",
        "\n",
        "    #next state:\n",
        "    prev_state_img = res.copy()\n",
        "    if done:\n",
        "        print(\"Well done!\")\n",
        "        break\n",
        "else:\n",
        "    print(\"Time limit exceeded. Try again.\")\n",
        "\n",
        "display.clear_output(wait=True)"
      ]
    },
    {
      "cell_type": "code",
      "execution_count": 16,
      "metadata": {
        "id": "vWm1jbLm3clH"
      },
      "outputs": [],
      "source": [
        "Actions_set=[0,1,2]\n",
        "\n",
        "def make_A(action_sequence, reward_seqeunce, state_img2_sequence):\n",
        "    action_sequence=np.array(action_sequence)\n",
        "    state_img2_sequence=np.array(state_img2_sequence)\n",
        "    reward_seqeunce=np.array(reward_seqeunce)\n",
        "    feature_dict_action={}\n",
        "    feature_next_action={}\n",
        "    reward_action_dict={}\n",
        "    for action in Actions_set:\n",
        "        indices=np.arange(len(action_sequence))\n",
        "        #print(action_sequence)\n",
        "        indices_act=indices[action_sequence==action]\n",
        "        #print(indices_act)\n",
        "        features = state_img2_sequence[indices_act]\n",
        "\n",
        "        #print(features.shape)\n",
        "        features_next = state_img2_sequence[indices_act]\n",
        "        #[1:][action_sequence==action]\n",
        "        #print(features_next.shape)\n",
        "        rewards_a=reward_seqeunce[action_sequence==action]\n",
        "\n",
        "\n",
        "        feature_dict_action[action]=features\n",
        "        feature_next_action[action]=features_next\n",
        "        reward_action_dict[action] = rewards_a\n",
        "\n",
        "\n",
        "\n",
        "    return feature_dict_action, feature_next_action, reward_action_dict\n",
        "\n",
        "feature_dict_action, feature_next_action, reward_action_dict = make_A(action_sequence, reward_seqeunce, state_img2_sequence)"
      ]
    },
    {
      "cell_type": "code",
      "execution_count": 17,
      "metadata": {
        "id": "rhQorW-cjnZm"
      },
      "outputs": [],
      "source": [
        "import numpy as np\n",
        "import scipy.linalg as la\n",
        "from sklearn.utils.extmath import randomized_svd\n",
        "\n",
        "\n",
        "\n",
        "def calculate_weights(gamma, P_F, r_F):\n",
        "    '''\n",
        "    gamma : scalar\n",
        "           discounted infinite-horizon return\n",
        "    P_F : matrix k x k\n",
        "    r_F: vector k\n",
        "        r_F from r_A = F^(+) @  r_A @ F\n",
        "    Return : weights k\n",
        "             r_F + gamma * inverse(I_k - gamma * v @ US) @ (V @ r_F)\n",
        "    '''\n",
        "    \n",
        "    l = US.shape[0]\n",
        "    k = US.shape[1]\n",
        "    I_k = np.eye(k)\n",
        "    \n",
        "#    return r_F + gamma * (US @ (np.linalg.inv(I_k - gamma * V @ US) @ (V @ r_F))) \n",
        "    return np.linalg.inv(I_k - gamma * P_F) @ r_F\n",
        "\n",
        "\n",
        "\n",
        "def calculate_r_F(F, r_A):\n",
        "    '''\n",
        "    F : matrix n x k\n",
        "        V from SVD(Prob_trans)\n",
        "    r_A: vector L\n",
        "        r_A = A^(+) @ rewards\n",
        "        \n",
        "    Return : r_F: vector k\n",
        "        r_F from r_A = np.linalg.pinv(F) @  r_A @ F\n",
        "    '''\n",
        "    \n",
        "    return np.linalg.pinv(F) @ r_A\n",
        "    \n",
        "\n",
        "    \n",
        "def get_features_matrix_hat(P_A, r_A):\n",
        "    '''\n",
        "    P_A : matrix l x l\n",
        "        matrix transition probabilities\n",
        "    r_A : vector l\n",
        "        compressed reward vector \n",
        "        \n",
        "    Return : F_hat : feature matrix for P_A\n",
        "        see return algorithm 2 from article\n",
        "    '''\n",
        "    \n",
        "    U, S, V_T = randomized_svd(M=P_A, n_components=k, n_iter=5)\n",
        "    l = U.shape[0]\n",
        "    \n",
        "    F_hat = np.append(U[:, :(k - 1)], r_A.reshape(l, 1), axis=1)\n",
        "    \n",
        "    US = U @ S\n",
        "    US = U * S.reshape(1, -1)\n",
        "     \n",
        "    return F_hat, US, V_T.T\n",
        "\n",
        "    \n",
        "def get_features_matrix(P_A, r_A, A_current):\n",
        "    '''\n",
        "    P_A : matrix l x l\n",
        "        matrix transition probabilities\n",
        "    r_A : vector l\n",
        "        compressed reward vector \n",
        "        \n",
        "    A : matrix n x l\n",
        "        matrix for current state\n",
        "        \n",
        "    Return : F_hat : feature matrix for P_A\n",
        "        see return algorithm 2 from article\n",
        "    '''\n",
        "    F_hat, US, V = get_features_matrix_hat(P_A, r_A)\n",
        "    \n",
        "    return A_current @ F_hat, US, V\n",
        " \n",
        "\n",
        "def get_P_F(P_A, F_hat):\n",
        "    '''\n",
        "    P_A : matrix l x l\n",
        "        matrix transition probabilities\n",
        "    F: matrix l x k\n",
        "        feature matrix\n",
        "        \n",
        "    Return : P_F\n",
        "    '''\n",
        "    \n",
        "    \n",
        "    return np.linalg.pinv(F_hat) @ P_A @ F_hat\n",
        " \n",
        "\n",
        "\n",
        "\n",
        "\n",
        "def LRA(A, r, method='svd', max_iter=16):\n",
        "    if method=='svd':\n",
        "        U, s, V = la.svd(A)\n",
        "        return U[:,:r]*s[:r].reshape(1, -1), V[:r,:]\n",
        "    if method=='eigen':\n",
        "        w, vr = la.eig(A, right=True)\n",
        "        ind = np.argpartition(np.abs(w), w.shape[0]-r)[-r:]\n",
        "        return vr[:, ind]*w[ind], la.inv(vr)[ind, :]\n",
        "    if method=='lfd':\n",
        "        D = np.random.rand(r, A.shape[1])\n",
        "        E = np.random.rand(A.shape[1], r)\n",
        "        diff, i = np.inf, 0\n",
        "        while la.norm(E@D - A) < diff and i < max_iter:\n",
        "            diff = la.norm(E@D - A)\n",
        "            E = A @ la.pinv(D)\n",
        "            D = la.pinv(E) @ A\n",
        "            i += 1\n",
        "        return E, D\n",
        "    raise ValueError('Unidentified method')"
      ]
    },
    {
      "cell_type": "code",
      "source": [
        "np.random.rand()"
      ],
      "metadata": {
        "colab": {
          "base_uri": "https://localhost:8080/"
        },
        "id": "7drwIQbWt0WV",
        "outputId": "fc894a16-3fd1-4f06-9540-97f52433e5de"
      },
      "execution_count": 34,
      "outputs": [
        {
          "output_type": "execute_result",
          "data": {
            "text/plain": [
              "0.10150978278481071"
            ]
          },
          "metadata": {},
          "execution_count": 34
        }
      ]
    },
    {
      "cell_type": "code",
      "execution_count": 36,
      "metadata": {
        "id": "qQN5GdwQTyIr"
      },
      "outputs": [],
      "source": [
        "import cv2\n",
        "\n",
        "\n",
        "def Sample_agent_policy(env, agent = None, is_agent = False):\n",
        "\n",
        "  actions = {'left': 0, 'stop': 1, 'right': 2}\n",
        "  def policy(obs, t):\n",
        "    # epsilon greedy\n",
        "    # Write the code for your policy here. You can use the observation\n",
        "    # (a tuple of position and velocity), the current time step, or both,\n",
        "    # if you want.\n",
        "    if np.random.rand()>0.8: \n",
        "      return np.random.choice(3)\n",
        "    else:\n",
        "      position, velocity = obs\n",
        "      if velocity<0:\n",
        "        return actions['left']\n",
        "      else:\n",
        "        return actions['right']  \n",
        "\n",
        "  def rgb2gray(rgb):\n",
        "\n",
        "    r, g, b = rgb[:,:,0], rgb[:,:,1], rgb[:,:,2]\n",
        "    gray = 0.2989 * r + 0.5870 * g + 0.1140 * b\n",
        "\n",
        "    return gray\n",
        "  def grey_and_scale(img):\n",
        "#    return cv2.resize(rgb2gray(img), dsize=(150, 100), interpolation=cv2.INTER_CUBIC)\n",
        "    return cv2.resize(rgb2gray(img), dsize=(40, 60), interpolation=cv2.INTER_CUBIC)\n",
        "\n",
        "\n",
        "  state_img2_sequence=[]\n",
        "  action_sequence=[]\n",
        "  reward_seqeunce=[]\n",
        "  TIME_LIMIT=500\n",
        "  obs = env.reset()\n",
        "  obs_array=env.render('rgb_array')\n",
        "\n",
        "  res =grey_and_scale(obs_array)\n",
        "  plt.imshow(res)\n",
        "  prev_state_img = res\n",
        "\n",
        "  action = policy(obs, 0)  # Call your policy\n",
        "\n",
        "  obs, reward, done, _ = env.step(action)\n",
        "  obs_array=env.render('rgb_array')\n",
        "  res=grey_and_scale(obs_array)\n",
        "      #make a tensor of 2 pictures to incorporate velocity tensor\n",
        "  state_img2=np.zeros([prev_state_img.shape[0],prev_state_img.shape[1],2])\n",
        "  state_img2[:,:,0] = prev_state_img\n",
        "  state_img2[:,:,1] = res\n",
        "\n",
        "  # saving more wisely  is desired\n",
        "   #flatten\n",
        "  state_img2_sequence.append(state_img2.flatten())\n",
        "  for t in range(1, TIME_LIMIT):\n",
        "      plt.gca().clear()\n",
        "      \n",
        "      #agent.predict(obs)\n",
        "      if is_agent:\n",
        "        action = agent.predict(state_img2_sequence[-1])\n",
        "      else:\n",
        "        action = policy(obs, t)\n",
        "        # Call your policy\n",
        "      obs, reward, done, _ = env.step(action)  # Pass the action chosen by the policy to the environment\n",
        "      \n",
        "      action_sequence.append(action)\n",
        "      reward_seqeunce.append(reward)\n",
        "      # We don't do anything with reward here because MountainCar is a very simple environment,\n",
        "      # and reward is a constant -1. Therefore, your goal is to end the episode as quickly as possible.\n",
        "\n",
        "      # Draw game image on display.\n",
        "      obs_array=env.render('rgb_array')\n",
        "      res = grey_and_scale(obs_array)\n",
        "\n",
        "      #make a tensor of 2 pictures to incorporate velocity tensor\n",
        "      state_img2=np.zeros([prev_state_img.shape[0],prev_state_img.shape[1],2])\n",
        "      #flatten at this stage\n",
        "      state_img2[:,:,0] = prev_state_img\n",
        "      state_img2[:,:,1] = res\n",
        "      # saving more wisely  is desired\n",
        "      state_img2_sequence.append(state_img2.flatten())\n",
        "\n",
        "      #visualisation\n",
        "      plt.imshow(res)\n",
        "      \n",
        "      display.display(plt.gcf())\n",
        "      display.clear_output(wait=True)\n",
        "\n",
        "      #next state:\n",
        "      prev_state_img = res.copy()\n",
        "      if done:\n",
        "          print(\"Well done!\")\n",
        "          break\n",
        "  else:\n",
        "      print(\"Time limit exceeded. Try again.\")\n",
        "\n",
        "  display.clear_output(wait=True)\n",
        "  return state_img2_sequence, action_sequence, reward_seqeunce"
      ]
    },
    {
      "cell_type": "code",
      "execution_count": null,
      "metadata": {
        "colab": {
          "base_uri": "https://localhost:8080/",
          "height": 269
        },
        "id": "C6nVab_6fAGo",
        "outputId": "874ad429-f7f6-41ef-a6f5-73a73674b513",
        "scrolled": false
      },
      "outputs": [
        {
          "output_type": "display_data",
          "data": {
            "image/png": "[encoded data removed]",
            "text/plain": [
              "<Figure size 432x288 with 4 Axes>"
            ]
          },
          "metadata": {}
        }
      ],
      "source": [
        "#from scipy.sparse.linalg import svds\n",
        "\n",
        "\n",
        "from sklearn.decomposition import TruncatedSVD\n",
        "from sklearn.utils.extmath import randomized_svd\n",
        "from tqdm import tqdm\n",
        "#from scipy.sparse import csr_matrix\n",
        "\n",
        "k = 10\n",
        "\n",
        "Agent_lspi=Agent(env)\n",
        "Agent_lspi.set_features_size(k)\n",
        "gamma=0.9\n",
        "iterations=10\n",
        "\n",
        "for i in range(iterations):\n",
        "    # sample according policy predicted by updated weight for \n",
        "    # make_A\n",
        "    #get features and features_next\n",
        "    #rewards for each action\n",
        "    # A state_action1 state_action1 by n_features(40) 30000 full rank \n",
        "\n",
        "    # A@A.T  state_action1 by state_action1 40 by 40\n",
        "    #A_next state_action1 by n_features\n",
        "    #for each action\n",
        "    \n",
        "    if (i==0):\n",
        "        print(\"hello world\")\n",
        "        state_img2_sequence, action_sequence, reward_seqeunce = Sample_agent_policy(env, agent=None, is_agent=False)\n",
        "    else:\n",
        "        state_img2_sequence, action_sequence, reward_seqeunce = Sample_agent_policy(env, agent=Agent_lspi, is_agent=True)\n",
        "    \n",
        "\n",
        "    feature_dict_action, feature_next_action,\\\n",
        "    reward_action_dict = make_A(action_sequence,\n",
        "                               reward_seqeunce, state_img2_sequence)\n",
        "  \n",
        "\n",
        "    fig, axs = plt.subplots(nrows=2, ncols=2) \n",
        "  #A_current, A_next , reward_A = make_A(action_sequence, reward_seqeunce, state_img2_sequence)\n",
        "    weights_action_list=[]\n",
        "    weigths_true_action_dict = {}\n",
        "    for action in tqdm(Actions_set):\n",
        "        if (feature_next_action[action].shape[0] == 0):\n",
        "            weights_action_list.append(np.random.rand(k))\n",
        "            continue\n",
        "            \n",
        "        A_next = feature_next_action[action]\n",
        "        A_current = feature_dict_action[action]\n",
        "        reward_A = reward_action_dict[action]\n",
        "        #inverse_moore = A_current.T@np.linalg.inv(A_current@A_current.T)\n",
        "        # A_current@inverse_moore = I\n",
        "        #state_action1 n_features\n",
        "        #np.pinv(A)\n",
        "        # n_features by n_features\n",
        "#        import pdb; pdb.set_trace()\n",
        "        Prob_A = la.pinv(A_current) @ A_next\n",
        "#        Prob_A = np.linalg.inv(A_current.T @ A_current) @ A_current.T @ A_next\n",
        "        print(\"Prob a\")\n",
        "        r_A =la.pinv(A_current) @ reward_A\n",
        "        print(\" r_A\")\n",
        "#        F_hat, US, V = get_features_matrix_hat(Prob_A, r_A)\n",
        "#        import pdb; pdb.set_trace()\n",
        "#        pdb.set_trace()\n",
        "        F, US, V = get_features_matrix(Prob_A, r_A, A_current)\n",
        "        F_hat, _ , _  = get_features_matrix_hat(Prob_A, r_A)\n",
        "        Agent_lspi.set_Fhat(F_hat)\n",
        "\n",
        "        print('LRA')\n",
        "\n",
        "        r_F = calculate_r_F(F, reward_A)\n",
        "        \n",
        "        P_F = get_P_F(Prob_A, F_hat)\n",
        "        weights_action = calculate_weights(gamma, P_F, r_F)\n",
        "        print(weights_action.shape)\n",
        "        print('weights_action')\n",
        "        \n",
        "        weigths_true_action_dict[action] = F_hat @ weights_action\n",
        "\n",
        "        weights_action_list.append(weights_action)\n",
        "        weights_true_action = F_hat @ weights_action \n",
        "        weights_true_action = weights_true_action.reshape(60, 40, 2)\n",
        "        if (action == 0):\n",
        "            axs[0, 0].imshow(weights_true_action[:,:,0])\n",
        "            axs[0, 0].set_title(\"Fig 1. Action left\")\n",
        "            axs[0, 1].imshow(weights_true_action[:,:,1])\n",
        "            axs[0, 1].set_title(\"Fig 2. Action left\")\n",
        "        if (action == 2):\n",
        "            axs[1, 0].imshow(weights_true_action[:,:,0])\n",
        "            axs[1, 0].set_title(\"Fig 1. Action right\")\n",
        "            axs[1, 1].imshow(weights_true_action[:,:,1])\n",
        "            axs[1, 1].set_title(\"Fig 2. Action right\")\n",
        "#        plt.imshow(weights_true_action[:,:,0])\n",
        "#        plt.imshow(weights_true_action[:,:])\n",
        "        #plot weights_action. cmap \n",
        "        #update policy according to new weights_action\n",
        "    weight_matrix = np.stack(weights_action_list)\n",
        "    print(weight_matrix.shape)\n",
        "    Agent_lspi.set_weights(weight_matrix.T)"
      ]
    },
    {
      "cell_type": "code",
      "source": [
        ""
      ],
      "metadata": {
        "id": "7Ffbbz18sMI8"
      },
      "execution_count": null,
      "outputs": []
    },
    {
      "cell_type": "code",
      "execution_count": null,
      "metadata": {
        "id": "bi0YmmN2TyIs"
      },
      "outputs": [],
      "source": [
        "np.sqrt(2000)"
      ]
    },
    {
      "cell_type": "code",
      "execution_count": null,
      "metadata": {
        "id": "zZBmzY9dTyIt",
        "outputId": "454aca9c-49f8-4e11-a6e1-f0e7b50e954c"
      },
      "outputs": [
        {
          "data": {
            "text/plain": [
              "array([[ 0.04478354,  0.02909084,  0.03785851, ...,  0.01123415,\n",
              "         0.04183728,  0.00234701],\n",
              "       [ 0.00179641, -0.01342547, -0.00664226, ..., -0.00463774,\n",
              "        -0.00229532,  0.00213908],\n",
              "       [-0.02902286,  0.0675748 , -0.03355641, ...,  0.05730085,\n",
              "        -0.05403108,  0.01059323],\n",
              "       ...,\n",
              "       [ 0.03139422, -0.04301666,  0.0666454 , ..., -0.10459897,\n",
              "        -0.03851908,  0.00121881],\n",
              "       [ 0.02967128, -0.03230923,  0.08405059, ..., -0.0807908 ,\n",
              "        -0.04957663, -0.02846655],\n",
              "       [-0.01120274, -0.00017998, -0.05142193, ...,  0.03587175,\n",
              "         0.02111265, -0.00611361]])"
            ]
          },
          "execution_count": 3,
          "metadata": {},
          "output_type": "execute_result"
        }
      ],
      "source": [
        "import numpy as np \n",
        "\n",
        "n = 3000\n",
        "A = np.random.random((n, n))\n",
        "np.linalg.pinv(A)"
      ]
    },
    {
      "cell_type": "code",
      "execution_count": null,
      "metadata": {
        "id": "Zsn539iqTyIt",
        "outputId": "aea832a9-e966-4cbd-8616-0bab8d0570b5"
      },
      "outputs": [
        {
          "name": "stdout",
          "output_type": "stream",
          "text": [
            "[[1 2 3]\n",
            " [3 4 6]]\n"
          ]
        }
      ],
      "source": [
        "an_array = np.array([[1, 2], [3, 4]])\n",
        "\n",
        "\n",
        "new_column = [[3], [6]]\n",
        "\n",
        "an_array = np.append(an_array, new_column, axis=1)\n",
        "print(an_array)\n"
      ]
    },
    {
      "cell_type": "code",
      "execution_count": null,
      "metadata": {
        "id": "fqsHb6_qxDTX"
      },
      "outputs": [],
      "source": [
        "print(V.shape)\n",
        "print(US.shape)\n",
        "del Prob_A"
      ]
    },
    {
      "cell_type": "code",
      "execution_count": null,
      "metadata": {
        "colab": {
          "base_uri": "https://localhost:8080/"
        },
        "id": "pC2h_B0aWWK4",
        "outputId": "886c2b47-4db2-41f9-def2-30b0e5049dd5"
      },
      "outputs": [
        {
          "name": "stdout",
          "output_type": "stream",
          "text": [
            "LRA\n"
          ]
        }
      ],
      "source": [
        "#US=US*s.reshape(1, -1)\n",
        "    #US, V = LRA(Prob_A, r=100)\n",
        "print('LRA')\n",
        "    # weights_action optimization \n",
        "Inv_Woodbury = Woodbury(0.9, US, V)\n",
        "    \n",
        "weights_action=calculate_weights(Inv_Woodbury, r_A)\n",
        "weights_action_dict[action]=weights_action\n",
        "\n",
        "weights_action.reshape(150, 100, 2)\n",
        "plt.imshow(weights_action[:,:,0])"
      ]
    },
    {
      "cell_type": "markdown",
      "metadata": {
        "id": "-HR-xUOFpr6c"
      },
      "source": [
        "Note: if you're running this on your local machine, you'll see a window pop up with the image above. Don't close it, just alt-tab away."
      ]
    },
    {
      "cell_type": "markdown",
      "metadata": {
        "id": "dhVwnwC6pr6c"
      },
      "source": [
        "### Gym interface\n",
        "\n",
        "The three main methods of an environment are\n",
        "* `reset()`: reset environment to the initial state, _return first observation_\n",
        "* `render()`: show current environment state (a more colorful version :) )\n",
        "* `step(a)`: commit action `a` and return `(new_observation, reward, is_done, info)`\n",
        " * `new_observation`: an observation right after committing the action `a`\n",
        " * `reward`: a number representing your reward for committing action `a`\n",
        " * `is_done`: True if the MDP has just finished, False if still in progress\n",
        " * `info`: some auxiliary stuff about what just happened. For now, ignore it."
      ]
    },
    {
      "cell_type": "code",
      "execution_count": null,
      "metadata": {
        "colab": {
          "base_uri": "https://localhost:8080/"
        },
        "id": "jNGnvU8Bpr6d",
        "outputId": "3975a586-5276-4f72-8003-9030fa43bfdb"
      },
      "outputs": [
        {
          "name": "stdout",
          "output_type": "stream",
          "text": [
            "initial observation code: [-0.52586437  0.        ]\n"
          ]
        }
      ],
      "source": [
        "obs0 = env.reset()\n",
        "print(\"initial observation code:\", obs0)\n",
        "\n",
        "# Note: in MountainCar, observation is just two numbers: car position and velocity"
      ]
    },
    {
      "cell_type": "code",
      "execution_count": null,
      "metadata": {
        "id": "re3YeRjRrAaI"
      },
      "outputs": [],
      "source": [
        "?np.append"
      ]
    },
    {
      "cell_type": "markdown",
      "metadata": {
        "id": "3PkqdVWbrp8t"
      },
      "source": [
        "Actions:\n",
        "1.   0 left\n",
        "2.   1 no step\n",
        "3.   2 right \n"
      ]
    },
    {
      "cell_type": "code",
      "execution_count": null,
      "metadata": {
        "id": "odVbD1ZurEuZ"
      },
      "outputs": [],
      "source": [
        "?np.append\n"
      ]
    },
    {
      "cell_type": "code",
      "execution_count": null,
      "metadata": {
        "colab": {
          "base_uri": "https://localhost:8080/",
          "height": 338
        },
        "id": "z8aRIzzXpr6e",
        "outputId": "977faa7d-0703-4715-90cf-5f35fc34bf88"
      },
      "outputs": [
        {
          "name": "stdout",
          "output_type": "stream",
          "text": [
            "taking action 2 (right)\n",
            "new observation code: [-0.55395261  0.00123657]\n",
            "reward: -1.0\n",
            "is game over?: False\n"
          ]
        },
        {
          "data": {
            "image/png": "[encoded data removed]",
            "text/plain": [
              "<Figure size 432x288 with 1 Axes>"
            ]
          },
          "metadata": {
            "needs_background": "light"
          },
          "output_type": "display_data"
        }
      ],
      "source": [
        "print(\"taking action 2 (right)\")\n",
        "\n",
        "new_obs, reward, is_done, _ = env.step(2)\n",
        "                                       \n",
        "plt.imshow(env.render('rgb_array'))\n",
        "print(\"new observation code:\", new_obs)\n",
        "print(\"reward:\", reward)\n",
        "print(\"is game over?:\", is_done)\n",
        "\n",
        "# Note: as you can see, the car has moved to the right slightly (around 0.0005)"
      ]
    },
    {
      "cell_type": "markdown",
      "metadata": {
        "id": "PrD9mcOmpr6f"
      },
      "source": [
        "### Play with it\n",
        "\n",
        "Below is the code that drives the car to the right. However, if you simply use the default policy, the car will not reach the flag at the far right due to gravity.\n",
        "\n",
        "__Your task__ is to fix it. Find a strategy that reaches the flag. \n",
        "\n",
        "You are not required to build any sophisticated algorithms for now, and you definitely don't need to know any reinforcement learning for this. Feel free to hard-code :)"
      ]
    },
    {
      "cell_type": "code",
      "execution_count": null,
      "metadata": {
        "id": "4qv_3SBOpr6g"
      },
      "outputs": [],
      "source": [
        "from IPython import display\n",
        "\n",
        "# Create env manually to set time limit. Please don't change this.\n",
        "TIME_LIMIT = 250\n",
        "env = gym.wrappers.TimeLimit(\n",
        "    gym.envs.classic_control.MountainCarEnv(),\n",
        "    max_episode_steps=TIME_LIMIT + 1,\n",
        ")\n",
        "actions = {'left': 0, 'stop': 1, 'right': 2}"
      ]
    },
    {
      "cell_type": "code",
      "execution_count": null,
      "metadata": {
        "id": "-eYqGpxBpr6g"
      },
      "outputs": [],
      "source": [
        "actions = {'left': 0, 'stop': 1, 'right': 2}\n",
        "def policy(obs, t):\n",
        "    # Write the code for your policy here. You can use the observation\n",
        "    # (a tuple of position and velocity), the current time step, or both,\n",
        "    # if you want.\n",
        "    position, velocity = obs\n",
        "    if velocity<0:\n",
        "      return actions['left']\n",
        "    else:\n",
        "      return actions['right']  \n",
        "\n",
        "    # This is an example policy. You can try running it, but it will not work.\n",
        "    # Your goal is to fix that. You don't need anything sophisticated here,\n",
        "    # and you can hard-code any policy that seems to work.\n",
        "    # Hint: think how you would make a swing go farther and faster.\n",
        "    #return actions['right']"
      ]
    },
    {
      "cell_type": "code",
      "execution_count": null,
      "metadata": {
        "colab": {
          "base_uri": "https://localhost:8080/",
          "height": 201
        },
        "id": "NJv8DYh3pr6h",
        "outputId": "2b89040c-255a-45db-ecd2-26f41bf17ae2"
      },
      "outputs": [
        {
          "data": {
            "image/png": "[encoded data removed]",
            "text/plain": [
              "<Figure size 288x216 with 1 Axes>"
            ]
          },
          "metadata": {
            "needs_background": "light"
          },
          "output_type": "display_data"
        }
      ],
      "source": [
        "plt.figure(figsize=(4, 3))\n",
        "display.clear_output(wait=True)\n",
        "\n",
        "obs = env.reset()\n",
        "for t in range(TIME_LIMIT):\n",
        "    plt.gca().clear()\n",
        "    \n",
        "    action = policy(obs, t)  # Call your policy\n",
        "    obs, reward, done, _ = env.step(action)  # Pass the action chosen by the policy to the environment\n",
        "    \n",
        "    # We don't do anything with reward here because MountainCar is a very simple environment,\n",
        "    # and reward is a constant -1. Therefore, your goal is to end the episode as quickly as possible.\n",
        "\n",
        "    # Draw game image on display.\n",
        "    plt.imshow(env.render('rgb_array'))\n",
        "    plt.savefig('/content/drive/MyDrive/RL_proj_car_images/car_img_iter'+str(t)+'.png')\n",
        "    display.display(plt.gcf())\n",
        "    display.clear_output(wait=True)\n",
        "\n",
        "    if done:\n",
        "        print(\"Well done!\")\n",
        "        break\n",
        "else:\n",
        "    print(\"Time limit exceeded. Try again.\")\n",
        "\n",
        "display.clear_output(wait=True)"
      ]
    },
    {
      "cell_type": "code",
      "execution_count": null,
      "metadata": {
        "colab": {
          "base_uri": "https://localhost:8080/"
        },
        "id": "e4ZrUrCXDO1w",
        "outputId": "aa9cf624-b0fb-4851-a374-08c91dbf0e65"
      },
      "outputs": [
        {
          "name": "stdout",
          "output_type": "stream",
          "text": [
            "It took step 122\n"
          ]
        }
      ],
      "source": [
        "print('It took step', t)"
      ]
    },
    {
      "cell_type": "code",
      "execution_count": null,
      "metadata": {
        "colab": {
          "base_uri": "https://localhost:8080/"
        },
        "id": "NCpldGrMDd3q",
        "outputId": "e60e9be6-df4e-4f82-e611-6d3c1aeee940"
      },
      "outputs": [
        {
          "name": "stdout",
          "output_type": "stream",
          "text": [
            "Mounted at /content/drive\n"
          ]
        }
      ],
      "source": [
        "from google.colab import drive\n",
        "drive.mount('/content/drive')"
      ]
    },
    {
      "cell_type": "code",
      "execution_count": null,
      "metadata": {
        "id": "LTDfJTLRpr6n"
      },
      "outputs": [],
      "source": [
        "assert obs[0] > 0.47\n",
        "print(\"You solved it!\")"
      ]
    },
    {
      "cell_type": "markdown",
      "metadata": {
        "id": "wSscSOQbOKXU"
      },
      "source": [
        "Try random policy"
      ]
    },
    {
      "cell_type": "code",
      "execution_count": null,
      "metadata": {
        "colab": {
          "base_uri": "https://localhost:8080/"
        },
        "id": "gPR8FQ65On9D",
        "outputId": "470c3c6d-84d3-4b30-8efb-9c1b2cb57547"
      },
      "outputs": [
        {
          "data": {
            "text/plain": [
              "1"
            ]
          },
          "execution_count": 11,
          "metadata": {},
          "output_type": "execute_result"
        }
      ],
      "source": [
        "np.random.choice([0,1,2])"
      ]
    },
    {
      "cell_type": "code",
      "execution_count": null,
      "metadata": {
        "colab": {
          "base_uri": "https://localhost:8080/",
          "height": 201
        },
        "id": "0avlf4GoOMnL",
        "outputId": "e4d0f4d6-6267-4f7c-cfb0-521bf431bd59"
      },
      "outputs": [
        {
          "data": {
            "image/png": "[encoded data removed]",
            "text/plain": [
              "<Figure size 288x216 with 1 Axes>"
            ]
          },
          "metadata": {
            "needs_background": "light"
          },
          "output_type": "display_data"
        }
      ],
      "source": [
        "def rand_policy(obs, t):\n",
        "    return np.random.choice([0,1,2])\n",
        "TIME_LIMIT=500\n",
        "plt.figure(figsize=(4, 3))\n",
        "display.clear_output(wait=True)\n",
        "\n",
        "obs = env.reset()\n",
        "for t in range(TIME_LIMIT):\n",
        "    plt.gca().clear()\n",
        "    \n",
        "    action = rand_policy(obs, t)  # Call your policy\n",
        "    obs, reward, done, _ = env.step(action)  # Pass the action chosen by the policy to the environment\n",
        "    \n",
        "    # We don't do anything with reward here because MountainCar is a very simple environment,\n",
        "    # and reward is a constant -1. Therefore, your goal is to end the episode as quickly as possible.\n",
        "\n",
        "    # Draw game image on display.\n",
        "    plt.imshow(env.render('rgb_array'))\n",
        "    #plt.savefig('/content/drive/MyDrive/RL_proj_car_images/car_img_iter'+str(t)+'.png')\n",
        "    display.display(plt.gcf())\n",
        "    display.clear_output(wait=True)\n",
        "\n",
        "    if done:\n",
        "        print(\"Well done!\")\n",
        "        break\n",
        "else:\n",
        "    print(\"Time limit exceeded. Try again.\")\n",
        "\n",
        "display.clear_output(wait=True)"
      ]
    }
  ],
  "metadata": {
    "colab": {
      "collapsed_sections": [],
      "name": "LSPI_gym_interface_A_final.ipynb",
      "provenance": []
    },
    "kernelspec": {
      "display_name": "Python 3",
      "language": "python",
      "name": "python3"
    },
    "language_info": {
      "codemirror_mode": {
        "name": "ipython",
        "version": 3
      },
      "file_extension": ".py",
      "mimetype": "text/x-python",
      "name": "python",
      "nbconvert_exporter": "python",
      "pygments_lexer": "ipython3",
      "version": "3.8.10"
    }
  },
  "nbformat": 4,
  "nbformat_minor": 0
}